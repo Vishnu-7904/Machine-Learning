{
  "nbformat": 4,
  "nbformat_minor": 0,
  "metadata": {
    "colab": {
      "provenance": []
    },
    "kernelspec": {
      "name": "python3",
      "display_name": "Python 3"
    },
    "language_info": {
      "name": "python"
    }
  },
  "cells": [
    {
      "cell_type": "code",
      "execution_count": null,
      "metadata": {
        "colab": {
          "base_uri": "https://localhost:8080/"
        },
        "id": "3SF8consFAjz",
        "outputId": "68f31b27-8ca6-41f0-8277-6b5e0dafc8a0"
      },
      "outputs": [
        {
          "output_type": "stream",
          "name": "stdout",
          "text": [
            "Enter the String: vishnu\n",
            "Number of vowels:  2\n",
            "Number of consonant:  4\n"
          ]
        }
      ],
      "source": [
        "#Question 1\n",
        "\n",
        "def vowel_count(input_str): #Funtion  for performing vowel count\n",
        "    count = 0\n",
        "    for letter in input_str:          #Traversing the array\n",
        "        if letter == 'a' or letter == 'e' or letter == 'i' or letter == 'o' or letter == 'u': #Checking for vowels\n",
        "            count += 1\n",
        "    return count\n",
        "\n",
        "givenString = input(\"Enter the String: \").lower()   #Accepting the input string\n",
        "vowel_count = vowel_count(givenString)  #Calling the function to count the vowels\n",
        "print(\"Number of vowels: \", vowel_count)\n",
        "\n",
        "\n",
        "string_without_space = givenString.replace(\" \", \"\")  #Removing spaces\n",
        "consonant_count = len(string_without_space) - vowel_count  #Finding the number of consonant\n",
        "print(\"Number of consonant: \", consonant_count)\n"
      ]
    },
    {
      "cell_type": "code",
      "source": [
        "#Question 2\n",
        "def multiply(A, B, ROW_A, Column_A, ROW_B, Column_B): #Funtion for multiplication\n",
        "\n",
        "    if Column_A != ROW_B: #Checking if multiplication is possible\n",
        "        print(\"Multiplication not possible\")\n",
        "        return None\n",
        "    else:\n",
        "\n",
        "        C = [[0 for _ in range(Column_B)] for _ in range(ROW_A)]  #Making the result matrix C with zeros\n",
        "\n",
        "        # Perform matrix multiplication\n",
        "        for i in range(ROW_A):\n",
        "            for j in range(Column_B):\n",
        "                for k in range(Column_A):\n",
        "                    C[i][j] += A[i][k] * B[k][j]\n",
        "\n",
        "        return C\n",
        "\n",
        "#Input for matrix A\n",
        "ROW_A = int(input(\"Enter the number of rows of A: \"))\n",
        "Column_A = int(input(\"Enter the number of columns of A: \"))\n",
        "A = [[int(input(f\"Enter the element of A{i}{j}: \")) for j in range(Column_A)] for i in range(ROW_A)]\n",
        "\n",
        "#Input for matrix B\n",
        "ROW_B = int(input(\"Enter the number of rows of B: \"))\n",
        "Column_B = int(input(\"Enter the number of columns of B: \"))\n",
        "B = [[int(input(f\"Enter the element of B{i},{j}: \")) for j in range(Column_B)] for i in range(ROW_B)]\n",
        "\n",
        "\n",
        "C = multiply(A, B, ROW_A, Column_A, ROW_B, Column_B) #Calling the funtion and printing the result\n",
        "print(\"Matrix product AB:\")\n",
        "for row in C:\n",
        "    print(row)"
      ],
      "metadata": {
        "id": "t2IOh1XWHti_"
      },
      "execution_count": null,
      "outputs": []
    },
    {
      "cell_type": "code",
      "source": [
        "#Question 3\n",
        "\n",
        "def common_elements(list1,list2): #Funtion to find out the common elements from List1 and List2\n",
        "    similarity_count = 0\n",
        "    for i in list1:\n",
        "        for j in list2:\n",
        "            if i==j:     #Syntax to compare both the list elements\n",
        "                similarity_count += 1\n",
        "                break\n",
        "    return similarity_count  #Returning the number of similiar elements\n",
        "\n",
        "list1 = []  #Initializing the lists\n",
        "list2 = []\n",
        "list1_length = int(input(\"Enter the number of elements in list 1: \"))\n",
        "list2_length = int(input(\"Enter the number of elements in list 2: \"))\n",
        "print(\"Enter the list 1 elements:\")\n",
        "for i in range(list1_length): #Putting in elements to list 1\n",
        "    n1 = input()\n",
        "    list1.append(n1)\n",
        "print(\"Enter the list 2 elements: \")\n",
        "for j in range(list2_length): #Putting in elements to list 2\n",
        "    n2 = input()\n",
        "    list2.append(n2)\n",
        "number_of_common_elements = common_elements(list1,list2) #Calling function to find number of similiar elements\n",
        "print(\"Number of similiar elements: \",number_of_common_elements)"
      ],
      "metadata": {
        "colab": {
          "base_uri": "https://localhost:8080/"
        },
        "id": "ZH3XwWcbGtCk",
        "outputId": "3300ad75-4d03-4ac1-cb6a-20d8c3fcbc09"
      },
      "execution_count": null,
      "outputs": [
        {
          "output_type": "stream",
          "name": "stdout",
          "text": [
            "Enter the number of elements in list 1: 4\n",
            "Enter the number of elements in list 2: 4\n",
            "Enter the list 1 elements:\n",
            "1\n",
            "2\n",
            "4\n",
            "5\n",
            "Enter the list 2 elements: \n",
            "1\n",
            "2\n",
            "7\n",
            "8\n",
            "Number of similiar elements:  2\n"
          ]
        }
      ]
    },
    {
      "cell_type": "code",
      "source": [
        "#Question 4\n",
        "\n",
        "def Transpose(matrix): #Funtion to get the transpose of the matrix\n",
        "\n",
        "    result = [[0 for _ in range(len(matrix))] for _ in range(len(matrix[0]))] # Create a result matrix .\n",
        "\n",
        "    for i in range(len(matrix)): # Traverse through the rows and columns of the original matrix.\n",
        "        for j in range(len(matrix[0])):\n",
        "            result[j][i] = matrix[i][j] # Assign the transpose element.\n",
        "\n",
        "    return result\n",
        "\n",
        "rows = int(input(\"Enter the number of rows: \"))\n",
        "columns = int(input(\"Enter the number of columns: \"))\n",
        "\n",
        "matrix = [] # Get the matrix elements from user.\n",
        "print(\"Enter matrix elements:\")\n",
        "for i in range(rows):\n",
        "    row = []\n",
        "    for j in range(columns):\n",
        "        element = int(input(f\"Enter the element: \"))\n",
        "        row.append(element)\n",
        "    matrix.append(row)\n",
        "\n",
        "transposed_matrix = Transpose(matrix) # Calculate and printing the transposed matrix.\n",
        "print(\"Original Matrix: \")\n",
        "for row in matrix:\n",
        "    print(row)\n",
        "\n",
        "print(\"Transposed Matrix: \")\n",
        "for row in transposed_matrix:\n",
        "    print(row)\n"
      ],
      "metadata": {
        "colab": {
          "base_uri": "https://localhost:8080/"
        },
        "id": "JPLMqhJCGzit",
        "outputId": "1ad299af-62de-435f-b06a-707bdc05f48d"
      },
      "execution_count": null,
      "outputs": [
        {
          "output_type": "stream",
          "name": "stdout",
          "text": [
            "Enter the number of rows: 2\n",
            "Enter the number of columns: 2\n",
            "Enter matrix elements:\n",
            "Enter element at position (1, 1): 2\n",
            "Enter element at position (1, 2): 3\n",
            "Enter element at position (2, 1): 4\n",
            "Enter element at position (2, 2): 5\n",
            "\n",
            "Original Matrix:\n",
            "[2, 3]\n",
            "[4, 5]\n",
            "\n",
            "Transposed Matrix:\n",
            "[2, 4]\n",
            "[3, 5]\n"
          ]
        }
      ]
    },
    {
      "cell_type": "code",
      "source": [],
      "metadata": {
        "id": "nmLFVQUBD02i"
      },
      "execution_count": null,
      "outputs": []
    }
  ]
}